{
 "cells": [
  {
   "cell_type": "markdown",
   "id": "ace81481",
   "metadata": {},
   "source": [
    "# Neon Kafka Data for the Burn Event (MDP5) "
   ]
  },
  {
   "cell_type": "markdown",
   "id": "8c37be78",
   "metadata": {},
   "source": [
    "Available data from the Kafka stream:\n",
    "- 'reading.sensor.prt', - Singal aspirated air temperature\n",
    "- 'reading.sensor.mti300ahrs', - 3D wind attitude and motion reference\n",
    "- 'reading.sensor.li191r', - Photosynthetically active radiation (quantum line)\n",
    "- 'event.rtu.pump',\n",
    "- 'reading.phenocam.rgbimage', - Phenology images [RGB]\n",
    "- 'reading.sensor.hfp01sc', - Soil heat flux plate\n",
    "- 'reading.sensor.mcseries',\n",
    "- 'reading.sensor.picarro3way',\n",
    "- 'reading.sensor.hmp155', - Relative humidity\n",
    "- 'event.cnc.ecte',\n",
    "- 'reading.sensor.t7610', - Precipitation\n",
    "- 'reading.sensor.csat3', - 3D wind speed, direction and sonic temperature\n",
    "- 'reading.sensor.pqs1', - Photosynthetically active radiation (PAR)\n",
    "- 'reading.sensor.mwseries',\n",
    "- 'event.rtu.grape',\n",
    "- 'reading.sensor.g2131i_raw', - Atmospheric CO2 isotopes\n",
    "- 'event.cnc.ecse',\n",
    "- 'event.rtu.events',\n",
    "- 'reading.sensor.nr01', - Shortwave and longwave radiation (net radiometer)\n",
    "- 'reading.sensor.grape',\n",
    "- 'reading.sensor.windobserverii', - 2D wind speed and direction\n",
    "- 'reading.sensor.pressuretransducer',\n",
    "- 'reading.sensor.li840a', - CO2 concentration storage\n",
    "- 'event.cnc.pumps',\n",
    "- 'reading.sensor.si111', - IR biological temperature\n",
    "- 'reading.sensor.ptb330a', - Barometric pressure\n",
    "- 'reading.sensor.li7200_raw', - CO2 and H2O concentrations turbulent\n",
    "- 'reading.sensor.pump',\n",
    "- 'reading.sensor.dualfan',\n",
    "- 'reading.sensor.l2130i_raw', - Atmospheric H2O isotopes\n",
    "- 'reading.phenocam.irimage', - Phenology images (IR)"
   ]
  },
  {
   "cell_type": "markdown",
   "id": "900dbae0",
   "metadata": {},
   "source": [
    "Files provided for the burn event:\n",
    "- 'reading.sensor.li191r', - Photosynthetically active radiation (quantum line)\n",
    "- 'reading.sensor.pqs1', - Photosynthetically active radiation (PAR)\n",
    "- 'reading.sensor.mti300ahrs', - 3D wind attitude and motion reference\n",
    "- 'reading.sensor.ptb330a', - Barometric pressure\n",
    "- 'reading.sensor.li7200_raw', - CO2 and H2O concentrations turbulent\n",
    "- 'reading.sensor.hfp01sc', - Soil heat flux plate\n",
    "- 'reading.sensor.li840a', - CO2 concentration storage\n",
    "- 'reading.sensor.t7610', - Precipitation\n",
    "- 'reading.sensor.g2131i_raw', - Atmospheric CO2 isotopes\n",
    "- 'reading.sensor.prt', - Singal aspirated air temperature\n",
    "- 'reading.sensor.windobserverii', - 2D wind speed and direction\n",
    "- 'reading.sensor.hmp155', - Relative humidity\n",
    "- 'reading.sensor.pressuretransducer',\n",
    "- 'reading.sensor.si111', - IR biological temperature\n",
    "- 'reading.sensor.l2130i_raw', - Atmospheric H2O isotopes\n",
    "- 'reading.sensor.csat3', - 3D wind speed, direction and sonic temperature\n",
    "- 'reading.sensor.nr01', - Shortwave and longwave radiation (net radiometer)"
   ]
  },
  {
   "cell_type": "markdown",
   "id": "4a6914c9",
   "metadata": {},
   "source": [
    "For each file, refer to the Algorithm Theoretical Basis Document ATBD for each variable on [NEONs Data portal](https://data.neonscience.org/data-products/explore) to convert the raw data to useable data. For example, `reading.sensor.windobserverii` corresponds to [2D Wind Speed and direction](https://data.neonscience.org/data-products/DP1.00001.001/RELEASE-2021) with the following [ATBD document](https://data.neonscience.org/api/v0/documents/NEON.DOC.000780vB)"
   ]
  },
  {
   "cell_type": "markdown",
   "id": "57b5c2f6",
   "metadata": {},
   "source": [
    "## Get datasets from CKAN"
   ]
  },
  {
   "cell_type": "code",
   "execution_count": null,
   "id": "c4ad8827",
   "metadata": {},
   "outputs": [],
   "source": [
    "from ckanapi import RemoteCKAN\n",
    "import pandas as pd\n",
    "import requests\n",
    "from requests.exceptions import HTTPError\n",
    "import pickle\n",
    "from shapely.geometry import shape\n",
    "import geopandas as gpd\n",
    "import contextily as ctx\n",
    "import json"
   ]
  },
  {
   "cell_type": "code",
   "execution_count": null,
   "id": "1507d6d7",
   "metadata": {},
   "outputs": [],
   "source": [
    "wifire_commons = RemoteCKAN(\"https://wifire-data.sdsc.edu\")"
   ]
  },
  {
   "cell_type": "code",
   "execution_count": null,
   "id": "e9f2be57",
   "metadata": {},
   "outputs": [],
   "source": [
    "packages = wifire_commons.action.package_search(q='+organization:sage-neon')\n",
    "neon_sage_datasets = pd.DataFrame(packages['results'])\n",
    "num_resources = neon_sage_datasets['num_resources'].to_list()\n",
    "print('Number of resources: ' + str(num_resources))\n",
    "neon_sage_datasets.T"
   ]
  },
  {
   "cell_type": "markdown",
   "id": "cdef2c34",
   "metadata": {},
   "source": [
    "### View the location of the dataset by plotting the spatial extent in geopandas"
   ]
  },
  {
   "cell_type": "code",
   "execution_count": null,
   "id": "104943c1",
   "metadata": {},
   "outputs": [],
   "source": [
    "neon_sage_datasets['spatial_extent'] = neon_sage_datasets.apply(lambda x: [extra['value'] for extra in x.extras if extra['key'] == 'spatial'],axis=1)\n",
    "neon_sage_datasets['geometry'] = neon_sage_datasets.apply(lambda x: shape(json.loads(x.spatial_extent[0])),axis=1) # should only be one spatial extent\n",
    "neon_sage_datasets_gdf = gpd.GeoDataFrame(neon_sage_datasets,crs=\"EPSG:4326\").set_geometry('geometry')"
   ]
  },
  {
   "cell_type": "code",
   "execution_count": null,
   "id": "6726625d",
   "metadata": {},
   "outputs": [],
   "source": [
    "ax = neon_sage_datasets_gdf.plot(figsize=(8,8),alpha=0.5,edgecolor='k')\n",
    "ctx.add_basemap(ax,crs=neon_sage_datasets_gdf.crs.to_string(),source=ctx.providers.OpenStreetMap.Mapnik)"
   ]
  },
  {
   "cell_type": "code",
   "execution_count": null,
   "id": "b5cea628",
   "metadata": {},
   "outputs": [],
   "source": [
    "resources = neon_sage_datasets.resources.to_list()[0] # pick one row from the above dataframe\n",
    "neon_files = [(res['name'],res['url']) for res in resources if res['name'].startswith('reading.') and res['name'].endswith('.pkl')]\n",
    "print(neon_files)"
   ]
  },
  {
   "cell_type": "markdown",
   "id": "073d76a3",
   "metadata": {},
   "source": [
    "## Download data from wifire-commons, read file, load to Pandas dataframe"
   ]
  },
  {
   "cell_type": "code",
   "execution_count": null,
   "id": "5c296efe",
   "metadata": {},
   "outputs": [],
   "source": [
    "def download_data(url,file_name):\n",
    "    try:\n",
    "        rcv = requests.get(url)\n",
    "        rcv.raise_for_status()\n",
    "    except HTTPError as http_err:\n",
    "        print(f'HTTP error occurred: {http_err}')\n",
    "    except Exception as err:\n",
    "        print(f'Other error occurred: {err}')\n",
    "\n",
    "    with open(file_name, 'wb') as f:\n",
    "        f.write(rcv.content)\n",
    "        f.close()\n",
    "    return"
   ]
  },
  {
   "cell_type": "markdown",
   "id": "5815031c",
   "metadata": {},
   "source": [
    "### Pick one pickle file to download from the list of tuples"
   ]
  },
  {
   "cell_type": "code",
   "execution_count": null,
   "id": "52e4b31f",
   "metadata": {},
   "outputs": [],
   "source": [
    "ith_pkl = 0\n",
    "file_name=neon_files[ith_pkl][0]\n",
    "data_url = neon_files[ith_pkl][1]\n",
    "print('topic: ' + file_name)\n",
    "download_data(data_url,file_name)"
   ]
  },
  {
   "cell_type": "markdown",
   "id": "9e5ae945",
   "metadata": {},
   "source": [
    "### Read data from pickle file"
   ]
  },
  {
   "cell_type": "code",
   "execution_count": null,
   "id": "4a259cf1",
   "metadata": {},
   "outputs": [],
   "source": [
    "objects = []\n",
    "with (open('data/'+file_name, \"rb\")) as openfile:\n",
    "    while True:\n",
    "        try:\n",
    "            objects.append(pickle.load(openfile))\n",
    "        except EOFError:\n",
    "            break"
   ]
  },
  {
   "cell_type": "code",
   "execution_count": null,
   "id": "2fce26c1",
   "metadata": {},
   "outputs": [],
   "source": [
    "sensor_data_df = pd.DataFrame(objects)\n",
    "sensor_data_df"
   ]
  },
  {
   "cell_type": "code",
   "execution_count": null,
   "id": "e568089e",
   "metadata": {},
   "outputs": [],
   "source": []
  }
 ],
 "metadata": {
  "interpreter": {
   "hash": "aee8b7b246df8f9039afb4144a1f6fd8d2ca17a180786b69acc140d282b71a49"
  },
  "kernelspec": {
   "display_name": "Python 3.9.10 64-bit",
   "language": "python",
   "name": "python3"
  },
  "language_info": {
   "codemirror_mode": {
    "name": "ipython",
    "version": 3
   },
   "file_extension": ".py",
   "mimetype": "text/x-python",
   "name": "python",
   "nbconvert_exporter": "python",
   "pygments_lexer": "ipython3",
   "version": "3.9.10"
  }
 },
 "nbformat": 4,
 "nbformat_minor": 5
}
